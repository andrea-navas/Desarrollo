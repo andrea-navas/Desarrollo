{
 "metadata": {
  "language_info": {
   "codemirror_mode": {
    "name": "ipython",
    "version": 3
   },
   "file_extension": ".py",
   "mimetype": "text/x-python",
   "name": "python",
   "nbconvert_exporter": "python",
   "pygments_lexer": "ipython3",
   "version": 3
  },
  "orig_nbformat": 2
 },
 "nbformat": 4,
 "nbformat_minor": 2,
 "cells": [
  {
   "cell_type": "code",
   "execution_count": null,
   "metadata": {},
   "outputs": [],
   "source": [
    "import numpy as np\n",
    "import time\n",
    "\n",
    "nums = np.random.normal(500,10000000,30)\n",
    "\n",
    "inicio = time.time()\n",
    "lista_nums = nums[nums < 500000]\n",
    "total = sum(lista_nums)\n",
    "print('El total es: ', total)\n",
    "print ('tiempo {} segundos'.format(time.time() - inicio))"
   ]
  }
 ]
}