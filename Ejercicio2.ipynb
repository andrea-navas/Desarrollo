{
 "cells": [
  {
   "cell_type": "markdown",
   "metadata": {},
   "source": [
    "Optimizacion de Codigo, Ejemplo 1: Identificacion de Ventas en un periodo\n",
    "Generar metricas de desempeño es una tarea muy frecuente en cualquier ambito de negocio, el siguiente codigo fue escrito para identificar qué libros fueron vendidos a partir de un listado especifico:"
   ]
  },
  {
   "cell_type": "code",
   "execution_count": 5,
   "metadata": {},
   "outputs": [],
   "source": [
    "import time\n",
    "import pandas as pd\n",
    "import numpy as np"
   ]
  },
  {
   "cell_type": "code",
   "execution_count": 6,
   "metadata": {},
   "outputs": [],
   "source": [
    "with open('libros_24_meses.txt') as f:\n",
    "    periodo24_ventas_libros = f.read().split('\\n')\n",
    "    \n",
    "with open('catalogo_libros.txt') as f:\n",
    "    catalogo_libros = f.read().split('\\n')"
   ]
  },
  {
   "cell_type": "code",
   "execution_count": 7,
   "metadata": {
    "tags": []
   },
   "outputs": [
    {
     "output_type": "stream",
     "name": "stdout",
     "text": "96\nDuracion: 29.40070652961731 segundos\n"
    }
   ],
   "source": [
    "inicio = time.time()\n",
    "libros_vendidos = []\n",
    "\n",
    "for libro in periodo24_ventas_libros:\n",
    "    if libro in catalogo_libros:\n",
    "        libros_vendidos.append(libro)\n",
    "\n",
    "print(len(libros_vendidos))\n",
    "print('Duracion: {} segundos'.format(time.time() - inicio))"
   ]
  },
  {
   "cell_type": "code",
   "execution_count": 5,
   "metadata": {
    "tags": []
   },
   "outputs": [
    {
     "output_type": "stream",
     "name": "stdout",
     "text": "96\nDuracion: 0.029862642288208008 segundos\n"
    }
   ],
   "source": [
    "inicio = time.time()\n",
    "libros_vendidos = np.intersect1d(periodo24_ventas_libros, catalogo_libros)\n",
    "print(len(libros_vendidos))\n",
    "print('Duracion: {} segundos'.format(time.time() - inicio))"
   ]
  },
  {
   "source": [
    "Asignacion 2:Otro enfoque para optimizar el codigo fuente puede ser..."
   ],
   "cell_type": "markdown",
   "metadata": {}
  },
  {
   "cell_type": "code",
   "execution_count": 32,
   "metadata": {
    "tags": []
   },
   "outputs": [
    {
     "output_type": "stream",
     "name": "stdout",
     "text": "96\nDuracion: 194.62684798240662 segundos\n"
    }
   ],
   "source": [
    "import time \n",
    "import numpy as np \n",
    "\n",
    "inicio = time.time()\n",
    "\n",
    "libros_24_meses = np.genfromtxt('libros_24_meses.txt')\n",
    "catalogo_libros = np.genfromtxt('catalogo_libros.txt')\n",
    "interseccion = []\n",
    "list_union = [n1 for n2 in catalogo_libros for n1 in libros_24_meses if n1 == n2 and n1 not in interseccion]\n",
    "print(len(list_union))\n",
    "print('Duracion: {} segundos' .format(time.time() - inicio))"
   ]
  },
  {
   "source": [
    "Asignacion: Cuarta propuesta de ejercicio 2. "
   ],
   "cell_type": "markdown",
   "metadata": {}
  },
  {
   "cell_type": "code",
   "execution_count": 14,
   "metadata": {},
   "outputs": [],
   "source": [
    "libros_24_meses = np.genfromtxt('libros_24_meses.txt')\n",
    "catalogo_libros = np.genfromtxt('catalogo_libros.txt')"
   ]
  },
  {
   "cell_type": "code",
   "execution_count": 31,
   "metadata": {
    "tags": []
   },
   "outputs": [
    {
     "output_type": "stream",
     "name": "stdout",
     "text": "96\nDuracion: 0.04688835144042969 segundos\n"
    }
   ],
   "source": [
    "inicio = time.time()\n",
    "def intersect(a,b): \n",
    "    return list(set(libros_24_meses) & set(catalogo_libros)) \n",
    "\n",
    "\n",
    "print (len(intersect(libros_24_meses,catalogo_libros)))\n",
    "print('Duracion: {} segundos' .format(time.time() - inicio))\n"
   ]
  },
  {
   "cell_type": "code",
   "execution_count": null,
   "metadata": {},
   "outputs": [],
   "source": []
  }
 ],
 "metadata": {
  "kernelspec": {
   "name": "Python 3.8.4 32-bit",
   "display_name": "Python 3.8.4 32-bit",
   "metadata": {
    "interpreter": {
     "hash": "aea3f7d2227c7b63bc831510fbe8fbac0505e2b3a5e11550acb3ca16c8abf144"
    }
   }
  },
  "language_info": {
   "codemirror_mode": {
    "name": "ipython",
    "version": 3
   },
   "file_extension": ".py",
   "mimetype": "text/x-python",
   "name": "python",
   "nbconvert_exporter": "python",
   "pygments_lexer": "ipython3",
   "version": "3.8.4-final"
  }
 },
 "nbformat": 4,
 "nbformat_minor": 2
}