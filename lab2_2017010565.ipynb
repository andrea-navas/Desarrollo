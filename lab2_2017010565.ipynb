{
 "metadata": {
  "language_info": {
   "codemirror_mode": {
    "name": "ipython",
    "version": 3
   },
   "file_extension": ".py",
   "mimetype": "text/x-python",
   "name": "python",
   "nbconvert_exporter": "python",
   "pygments_lexer": "ipython3",
   "version": "3.8.4-final"
  },
  "orig_nbformat": 2,
  "kernelspec": {
   "name": "Python 3.8.4 32-bit",
   "display_name": "Python 3.8.4 32-bit",
   "metadata": {
    "interpreter": {
     "hash": "aea3f7d2227c7b63bc831510fbe8fbac0505e2b3a5e11550acb3ca16c8abf144"
    }
   }
  }
 },
 "nbformat": 4,
 "nbformat_minor": 2,
 "cells": [
  {
   "cell_type": "code",
   "execution_count": 24,
   "metadata": {
    "tags": []
   },
   "outputs": [
    {
     "output_type": "stream",
     "name": "stdout",
     "text": [
      "El total de los puntos menores de 500000 es: -133160877.64605546\ntiempo: 0.0009970664978027344 segundos\n"
     ]
    }
   ],
   "source": [
    "import random \n",
    "import numpy as np \n",
    "import time\n",
    "\n",
    "nums = np.random.normal(500,10000000,30)\n",
    "\n",
    "inicio = time.time()\n",
    "num_menor = []\n",
    "\n",
    "while valor in nums:\n",
    "    if valor < 500000:\n",
    "        num_menor.append(valor)\n",
    "        total_nums = sum(num_menor)\n",
    "print('El total de los puntos menores de 500000 es:', total_nums)\n",
    "print('tiempo: {} segundos' .format(time.time() - inicio))\n",
    "\n",
    "\n",
    "\n",
    "      \n",
    "    \n"
   ]
  },
  {
   "cell_type": "code",
   "execution_count": null,
   "metadata": {},
   "outputs": [],
   "source": []
  }
 ]
}